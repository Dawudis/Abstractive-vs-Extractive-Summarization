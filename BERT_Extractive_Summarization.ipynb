{
  "nbformat": 4,
  "nbformat_minor": 0,
  "metadata": {
    "colab": {
      "name": "BERT Extractive Summarization",
      "provenance": [],
      "authorship_tag": "ABX9TyOK2SQSI3kD2dpLNbWx6+GH",
      "include_colab_link": true
    },
    "kernelspec": {
      "name": "python3",
      "display_name": "Python 3"
    },
    "language_info": {
      "name": "python"
    }
  },
  "cells": [
    {
      "cell_type": "markdown",
      "metadata": {
        "id": "view-in-github",
        "colab_type": "text"
      },
      "source": [
        "<a href=\"https://colab.research.google.com/github/Dawudis/Abstractive-vs-Extractive-Summarization/blob/main/BERT_Extractive_Summarization.ipynb\" target=\"_parent\"><img src=\"https://colab.research.google.com/assets/colab-badge.svg\" alt=\"Open In Colab\"/></a>"
      ]
    },
    {
      "cell_type": "markdown",
      "metadata": {
        "id": "2_AeeJ-20EzL"
      },
      "source": [
        "# **Install/Import Dependencies**"
      ]
    },
    {
      "cell_type": "code",
      "metadata": {
        "id": "W-JoeTPQtx7Q"
      },
      "source": [
        "!pip install -q bert-extractive-summarizer\n",
        "from summarizer import Summarizer"
      ],
      "execution_count": 17,
      "outputs": []
    },
    {
      "cell_type": "markdown",
      "metadata": {
        "id": "OP-qcalY0eyF"
      },
      "source": [
        "# **Configure Model and Get Summary**"
      ]
    },
    {
      "cell_type": "code",
      "metadata": {
        "id": "mHl3JF9Jw3VZ"
      },
      "source": [
        "text =\"\"\"\n",
        "As President Biden’s popularity among American voters continues to decline, so does his clout among fellow Democrats. \n",
        "\n",
        "An increasing number of Biden allies have voiced their disappointment in his handling of issues like the border crisis, Afghanistan and the Democratic-controlled Congress, where two major pieces of legislation furthering his domestic agenda remain stalled due to party infighting.\n",
        "\n",
        "The latest crack in the party foundation became evident Sunday after Virginia's Democratic gubernatorial nominee Terry McAuliffe, who campaigned with Biden in northern Virginia less than three months ago, said he was \"frustrated\" with the president and Democrats in Congress.\n",
        "\"\"\""
      ],
      "execution_count": 18,
      "outputs": []
    },
    {
      "cell_type": "code",
      "metadata": {
        "id": "UXViEYvJvBLH"
      },
      "source": [
        "model = Summarizer()\n",
        "final = model(text, min_length=30)"
      ],
      "execution_count": null,
      "outputs": []
    },
    {
      "cell_type": "code",
      "metadata": {
        "id": "GDE2Qf82vCh0"
      },
      "source": [
        "summary = \"\".join(final)"
      ],
      "execution_count": 20,
      "outputs": []
    },
    {
      "cell_type": "code",
      "metadata": {
        "colab": {
          "base_uri": "https://localhost:8080/",
          "height": 52
        },
        "id": "6lkGsafvvEZh",
        "outputId": "52426ee1-952d-49df-cb94-e5493bc646e2"
      },
      "source": [
        "summary"
      ],
      "execution_count": 21,
      "outputs": [
        {
          "output_type": "execute_result",
          "data": {
            "application/vnd.google.colaboratory.intrinsic+json": {
              "type": "string"
            },
            "text/plain": [
              "'As President Biden’s popularity among American voters continues to decline, so does his clout among fellow Democrats. An increasing number of Biden allies have voiced their disappointment in his handling of issues like the border crisis, Afghanistan and the Democratic-controlled Congress, where two major pieces of legislation furthering his domestic agenda remain stalled due to party infighting.'"
            ]
          },
          "metadata": {},
          "execution_count": 21
        }
      ]
    }
  ]
}