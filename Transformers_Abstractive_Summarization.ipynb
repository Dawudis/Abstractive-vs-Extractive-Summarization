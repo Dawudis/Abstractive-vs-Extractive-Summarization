{
  "nbformat": 4,
  "nbformat_minor": 0,
  "metadata": {
    "colab": {
      "name": "Transformers Abstractive Summarization",
      "provenance": [],
      "authorship_tag": "ABX9TyPm4/qmr67QR8KaLYoxtpG6",
      "include_colab_link": true
    },
    "kernelspec": {
      "name": "python3",
      "display_name": "Python 3"
    },
    "language_info": {
      "name": "python"
    }
  },
  "cells": [
    {
      "cell_type": "markdown",
      "metadata": {
        "id": "view-in-github",
        "colab_type": "text"
      },
      "source": [
        "<a href=\"https://colab.research.google.com/github/Dawudis/Abstractive-vs-Extractive-Summarization/blob/main/Transformers_Abstractive_Summarization.ipynb\" target=\"_parent\"><img src=\"https://colab.research.google.com/assets/colab-badge.svg\" alt=\"Open In Colab\"/></a>"
      ]
    },
    {
      "cell_type": "markdown",
      "metadata": {
        "id": "2_AeeJ-20EzL"
      },
      "source": [
        "# **Install/Import Dependencies**"
      ]
    },
    {
      "cell_type": "code",
      "metadata": {
        "id": "4ClQGdAPz_-U"
      },
      "source": [
        "!pip install torch==1.4.0\n",
        "import torch"
      ],
      "execution_count": null,
      "outputs": []
    },
    {
      "cell_type": "code",
      "metadata": {
        "id": "JDT6YAZcmPwK"
      },
      "source": [
        "!pip install transformers==2.8.0\n",
        "from transformers import T5Tokenizer, T5ForConditionalGeneration, T5Config\n",
        "\n",
        "model = T5ForConditionalGeneration.from_pretrained('t5-small')\n",
        "tokenizer = T5Tokenizer.from_pretrained('t5-small')"
      ],
      "execution_count": null,
      "outputs": []
    },
    {
      "cell_type": "markdown",
      "metadata": {
        "id": "OP-qcalY0eyF"
      },
      "source": [
        "# **Configure Model and Get Summary**"
      ]
    },
    {
      "cell_type": "code",
      "metadata": {
        "id": "fuLPiJ-8mejX"
      },
      "source": [
        "text =\"\"\"\n",
        "As President Biden’s popularity among American voters continues to decline, so does his clout among fellow Democrats. \n",
        "\n",
        "An increasing number of Biden allies have voiced their disappointment in his handling of issues like the border crisis, Afghanistan and the Democratic-controlled Congress, where two major pieces of legislation furthering his domestic agenda remain stalled due to party infighting.\n",
        "\n",
        "The latest crack in the party foundation became evident Sunday after Virginia's Democratic gubernatorial nominee Terry McAuliffe, who campaigned with Biden in northern Virginia less than three months ago, said he was \"frustrated\" with the president and Democrats in Congress.\n",
        "\"\"\""
      ],
      "execution_count": 21,
      "outputs": []
    },
    {
      "cell_type": "code",
      "metadata": {
        "id": "oVIlq_zdmkAc"
      },
      "source": [
        "initial_text = text.strip().replace(\"\\n\",\"\")\n",
        "t5_text = \"summarize: \"+initial_text"
      ],
      "execution_count": 27,
      "outputs": []
    },
    {
      "cell_type": "code",
      "metadata": {
        "id": "KHDqSqOimnMz"
      },
      "source": [
        "tokenized_text = tokenizer.encode(t5_text, return_tensors=\"pt\")"
      ],
      "execution_count": 28,
      "outputs": []
    },
    {
      "cell_type": "code",
      "metadata": {
        "id": "KH5QQ8HrmsYu"
      },
      "source": [
        "summary_ids = model.generate(tokenized_text,\n",
        "                                    num_beams=4,\n",
        "                                    no_repeat_ngram_size=2,\n",
        "                                    min_length=30,\n",
        "                                    max_length=100,\n",
        "                                    early_stopping=True)"
      ],
      "execution_count": 29,
      "outputs": []
    },
    {
      "cell_type": "code",
      "metadata": {
        "id": "k66jJtZnmvMf"
      },
      "source": [
        "summary = tokenizer.decode(summary_ids[0], skip_special_tokens=True)"
      ],
      "execution_count": 30,
      "outputs": []
    },
    {
      "cell_type": "code",
      "metadata": {
        "colab": {
          "base_uri": "https://localhost:8080/",
          "height": 52
        },
        "id": "2oBDa0Eumw4u",
        "outputId": "d43cd6c3-bad8-45c0-eb2f-15552fdee81e"
      },
      "source": [
        "summary"
      ],
      "execution_count": 31,
      "outputs": [
        {
          "output_type": "execute_result",
          "data": {
            "application/vnd.google.colaboratory.intrinsic+json": {
              "type": "string"
            },
            "text/plain": [
              "'president biden\\'s popularity among american voters continues to decline. so does his clout among fellow Democrats, as his popularity declines in the u.s. gubernatorial nominee Terry McAuliffe says he is \"frustrated\" with the president and the Democrats in Congress. an increasing number of Biden allies have voiced their disappointment in his handling of issues like the border crisis and Afghanistan.'"
            ]
          },
          "metadata": {},
          "execution_count": 31
        }
      ]
    }
  ]
}